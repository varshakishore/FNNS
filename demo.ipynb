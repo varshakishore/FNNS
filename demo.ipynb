{
 "cells": [
  {
   "cell_type": "code",
   "execution_count": 1,
   "metadata": {},
   "outputs": [],
   "source": [
    "# import relevant packages\n",
    "import numpy as np \n",
    "import torch\n",
    "import matplotlib.pyplot as plt\n",
    "from imageio import imread, imwrite\n",
    "from torch import nn\n",
    "import random\n",
    "import argparse\n",
    "from PIL import Image\n",
    "from skimage.metrics import peak_signal_noise_ratio\n",
    "from skimage.metrics import structural_similarity\n",
    "from steganogan import SteganoGAN\n",
    "\n",
    "import torch\n",
    "from torch.optim import LBFGS\n",
    "import torch.nn.functional as F\n",
    "\n",
    "# set seed\n",
    "seed = 11111\n",
    "np.random.seed(seed)"
   ]
  },
  {
   "cell_type": "code",
   "execution_count": 19,
   "metadata": {},
   "outputs": [],
   "source": [
    "# set paramaters\n",
    "# The mode can be random, pretrained-de or pretrained-d. Refer to the paper for details\n",
    "mode = \"pretrained-d\"\n",
    "steps = 2000\n",
    "max_iter = 10\n",
    "alpha = 0.1\n",
    "eps = 0.3\n",
    "num_bits = 1\n",
    "\n",
    "# some pre-trained steganoGAN models can be found here: https://drive.google.com/drive/folders/1-U2NDKUfqqI-Xd5IqT1nkymRQszAlubu?usp=sharing\n",
    "model_path = \"/home/vk352/FaceDetection/SteganoGAN/research/models/celeba_basic_1_1_mse10.steg\"\n"
   ]
  },
  {
   "cell_type": "code",
   "execution_count": 20,
   "metadata": {},
   "outputs": [
    {
     "name": "stdout",
     "output_type": "stream",
     "text": [
      "Using CUDA device\n"
     ]
    }
   ],
   "source": [
    "steganogan = SteganoGAN.load(path=model_path, cuda=True, verbose=True)\n",
    "input_im = \"/home/vk352/FaceDetection/datasets/div2k/val/512/0801.jpg\"\n",
    "output_im = \"steganographic.png\""
   ]
  },
  {
   "cell_type": "code",
   "execution_count": 21,
   "metadata": {},
   "outputs": [
    {
     "name": "stdout",
     "output_type": "stream",
     "text": [
      "Encoding completed.\n"
     ]
    }
   ],
   "source": [
    "inp_image = imread(input_im, pilmode='RGB')\n",
    "\n",
    "# you can add a custom target message here \n",
    "target = torch.bernoulli(torch.empty(1, num_bits, inp_image.shape[1], inp_image.shape[0]).uniform_(0, 1)).to('cuda')\n",
    "\n",
    "steganogan.encode(input_im, output_im, target)\n",
    "output = steganogan.decode(output_im)\n",
    "\n",
    "if mode == \"pretrained-de\":\n",
    "    image = output_im\n",
    "else:\n",
    "    image = input_im\n",
    "\n",
    "image = imread(image, pilmode='RGB') / 255.0\n",
    "image = torch.FloatTensor(image).permute(2, 1, 0).unsqueeze(0)\n",
    "image = image.to('cuda')"
   ]
  },
  {
   "cell_type": "code",
   "execution_count": 22,
   "metadata": {},
   "outputs": [
    {
     "name": "stdout",
     "output_type": "stream",
     "text": [
      "PSNR: 21.819463907593587\n",
      "SSIM: 0.84231546457805\n",
      "Iniitial error: 0.01287841796875\n"
     ]
    }
   ],
   "source": [
    "#initial statistics:\n",
    "\n",
    "im1 = np.array(imread(input_im, pilmode='RGB')).astype(float)\n",
    "im2 = np.array(imread(output_im, pilmode='RGB')).astype(float)\n",
    "print(\"PSNR:\", peak_signal_noise_ratio(im1, im2, data_range=255))\n",
    "print(\"SSIM:\",structural_similarity(im1, im2, data_range=255, multichannel=True))\n",
    "err = ((target !=output.float()).sum().item()+0.0)/target.numel()\n",
    "print(\"Iniitial error:\", err)"
   ]
  },
  {
   "cell_type": "code",
   "execution_count": 23,
   "metadata": {},
   "outputs": [
    {
     "name": "stdout",
     "output_type": "stream",
     "text": [
      "Error: 0.12554550170898438\n",
      "Error: 0.036365509033203125\n",
      "Error: 0.0092620849609375\n",
      "Error: 0.002719879150390625\n",
      "Error: 0.0006561279296875\n",
      "Error: 0.031497955322265625\n",
      "Error: 0.00734710693359375\n",
      "Error: 0.001422882080078125\n",
      "Error: 0.000141143798828125\n",
      "Error: 7.62939453125e-06\n",
      "Error: 0.0\n",
      "Error: 3.814697265625e-06\n",
      "Error: 0.0\n",
      "Error: 7.62939453125e-06\n",
      "Error: 0.0\n",
      "Error: 0.0\n",
      "Error: 0.0\n",
      "Error: 0.0\n",
      "Error: 0.0\n",
      "Error: 0.0\n",
      "Error: 0.0\n",
      "Error: 0.0\n"
     ]
    }
   ],
   "source": [
    "# FNNS Optimization\n",
    "model = steganogan.decoder \n",
    "criterion = torch.nn.BCEWithLogitsLoss(reduction='sum')\n",
    "\n",
    "\n",
    "out = model(image)\n",
    "target = target.to(out.device)\n",
    "\n",
    "count = 0\n",
    "\n",
    "adv_image = image.clone().detach()\n",
    "\n",
    "for i in range(steps // max_iter):\n",
    "    adv_image.requires_grad = True\n",
    "    optimizer = LBFGS([adv_image], lr=alpha, max_iter=max_iter)\n",
    "\n",
    "    def closure():\n",
    "        outputs = model(adv_image)\n",
    "        loss = criterion(outputs, target)\n",
    "\n",
    "\n",
    "        optimizer.zero_grad()\n",
    "        loss.backward()\n",
    "        return loss\n",
    "\n",
    "    optimizer.step(closure)\n",
    "    delta = torch.clamp(adv_image - image, min=-eps, max=eps)\n",
    "    adv_image = torch.clamp(image + delta, min=0, max=1).detach()\n",
    "\n",
    "    err = len(torch.nonzero((model(adv_image)>0).float().view(-1) != target.view(-1))) / target.numel()\n",
    "    print(\"Error:\", err)\n",
    "    if err < 0.00001: eps = 0.7\n",
    "    if err==0: count+=1; eps = 0.3\n",
    "    if count==10: break"
   ]
  },
  {
   "cell_type": "code",
   "execution_count": 18,
   "metadata": {},
   "outputs": [
    {
     "name": "stdout",
     "output_type": "stream",
     "text": [
      "PSNR: 33.14091471588373\n",
      "SSIM: 0.9280028725210056\n",
      "Error: 0.0\n",
      "\n",
      "After writing to file and reading from file\n",
      "PSNR: 33.09258549548191\n",
      "SSIM: 0.9276992026437099\n",
      "Error: 0.0\n"
     ]
    }
   ],
   "source": [
    "# print final statistics\n",
    "\n",
    "print(\"PSNR:\", peak_signal_noise_ratio(np.array(imread(input_im, pilmode='RGB')).astype(float), (adv_image.squeeze().permute(2,1,0)*255).detach().cpu().numpy(), data_range=255))\n",
    "print(\"SSIM:\", structural_similarity(np.array(imread(input_im, pilmode='RGB')).astype(float), (adv_image.squeeze().permute(2,1,0)*255).detach().cpu().numpy(), data_range=255, multichannel=True))\n",
    "print(\"Error:\", err)\n",
    "lbfgsimg = (adv_image.cpu().squeeze().permute(2,1,0).numpy()*255).astype(np.uint8)\n",
    "\n",
    "Image.fromarray(lbfgsimg).save(output_im)\n",
    "image_read = imread(output_im, pilmode='RGB') / 255.0\n",
    "image_read = torch.FloatTensor(image_read).permute(2, 1, 0).unsqueeze(0).to('cuda')\n",
    "\n",
    "print(\"\\nAfter writing to file and reading from file\")\n",
    "im1 = np.array(imread(input_im, pilmode='RGB')).astype(float)\n",
    "im2 = np.array(imread(output_im, pilmode='RGB')).astype(float)\n",
    "print(\"PSNR:\", peak_signal_noise_ratio(im1, im2, data_range=255))\n",
    "print(\"SSIM:\", structural_similarity(im1, im2, data_range=255, multichannel=True))\n",
    "print(\"Error:\", len(torch.nonzero((model(image_read)>0).float().view(-1) != target.view(-1))) / target.numel())"
   ]
  },
  {
   "cell_type": "code",
   "execution_count": null,
   "metadata": {},
   "outputs": [],
   "source": []
  }
 ],
 "metadata": {
  "kernelspec": {
   "display_name": "rnns_vk",
   "language": "python",
   "name": "rnns_vk"
  },
  "language_info": {
   "codemirror_mode": {
    "name": "ipython",
    "version": 3
   },
   "file_extension": ".py",
   "mimetype": "text/x-python",
   "name": "python",
   "nbconvert_exporter": "python",
   "pygments_lexer": "ipython3",
   "version": "3.6.13"
  }
 },
 "nbformat": 4,
 "nbformat_minor": 4
}
